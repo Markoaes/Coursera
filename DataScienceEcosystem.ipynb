{
 "cells": [
  {
   "cell_type": "markdown",
   "id": "43317856-246d-4bdc-bfc4-00d9cd2df3e3",
   "metadata": {},
   "source": [
    "# Data Science Tools and Ecosystem"
   ]
  },
  {
   "cell_type": "markdown",
   "id": "055877d2-2a99-4ca3-a3ac-5aa814b83842",
   "metadata": {},
   "source": [
    "En este cuaderno, se resumen las herramientas y ecosistemas de ciencia de datos."
   ]
  },
  {
   "cell_type": "markdown",
   "id": "01fb6335-9218-4fb0-a395-acfc904a18b0",
   "metadata": {},
   "source": [
    "**Objetivos:**\n",
    "\n",
    "* Listar lenguajes populares para Ciencia de Datos.\n",
    "* Enumerar bibliotecas comunes de Ciencia de Datos.\n",
    "* Crear tablas de herramientas de Ciencia de Datos.\n",
    "* Introducir ejemplos de expresiones aritméticas en Python.\n",
    "* Escribir y ejecutar expresiones aritméticas en celdas de código.\n",
    "* Convertir minutos a horas usando expresiones aritméticas."
   ]
  },
  {
   "cell_type": "markdown",
   "id": "b40bdb20-ff58-42b1-8dcc-28b44d11c50f",
   "metadata": {},
   "source": [
    "Algunos de los lenguajes populares que utilizan los científicos de datos son:  \n",
    "1.  **Python:** Ampliamente utilizado por su versatilidad y sus numerosas bibliotecas para ciencia de datos como Pandas, NumPy y Scikit-learn.\n",
    "2.  **R:** Un lenguaje especializado en estadística y visualización de datos, muy popular en la comunidad académica y de investigación.\n",
    "3.  **SQL:** Esencial para trabajar con bases de datos relacionales, permitiendo extraer, manipular y analizar datos de manera eficiente.\n",
    "4.  **Julia:** Un lenguaje de alto rendimiento diseñado para computación numérica y análisis de datos, que está ganando popularidad por su velocidad y facilidad de uso."
   ]
  },
  {
   "cell_type": "markdown",
   "id": "3ee92669-64be-468b-9fee-ffda70069fde",
   "metadata": {},
   "source": [
    "Algunas de las bibliotecas comúnmente utilizadas por los científicos de datos incluyen:\n",
    "\n",
    "1.  **Pandas:** Proporciona estructuras de datos y herramientas de análisis de datos de alto rendimiento.\n",
    "2.  **NumPy:** Es la biblioteca fundamental para la computación numérica en Python, con soporte para matrices y matrices multidimensionales, junto con una colección de funciones matemáticas para operar en estas matrices.\n",
    "3.  **Scikit-learn:** Ofrece herramientas sencillas y eficientes para el análisis predictivo de datos, incluyendo algoritmos de clasificación, regresión, clustering y reducción de dimensionalidad.\n",
    "4.  **Matplotlib:** Es una biblioteca de trazado 2D de Python que produce figuras de calidad de publicación en una variedad de formatos impresos y entornos interactivos."
   ]
  },
  {
   "cell_type": "markdown",
   "id": "6f624d1f-ee8e-47d8-af15-acce5310176b",
   "metadata": {},
   "source": [
    "| Herramientas de Ciencia de Datos |\n",
    "| :------------------------------ |\n",
    "| Jupyter Notebook                |\n",
    "| RStudio                         |\n",
    "| VS Code (con extensiones)       |"
   ]
  },
  {
   "cell_type": "markdown",
   "id": "188a3474-dc6f-42e5-bddf-68490a7e3bfc",
   "metadata": {},
   "source": [
    "### A continuación, se presentan algunos ejemplos de evaluación de expresiones aritméticas en Python"
   ]
  },
  {
   "cell_type": "code",
   "execution_count": 20,
   "id": "598bfb54-92ea-44cc-85b7-f6f29b689c4e",
   "metadata": {},
   "outputs": [
    {
     "data": {
      "text/plain": [
       "17"
      ]
     },
     "execution_count": 20,
     "metadata": {},
     "output_type": "execute_result"
    }
   ],
   "source": [
    "# Esta es una expresión aritmética simple para multiplicar y luego sumar enteros:\n",
    "\n",
    "(3*4)+5\n",
    "\n"
   ]
  },
  {
   "cell_type": "code",
   "execution_count": 22,
   "id": "af8a65b5-fa4d-40b0-b26e-0e556b25f50e",
   "metadata": {},
   "outputs": [
    {
     "data": {
      "text/plain": [
       "3.3333333333333335"
      ]
     },
     "execution_count": 22,
     "metadata": {},
     "output_type": "execute_result"
    }
   ],
   "source": [
    "# Esto convertirá 200 minutos a horas dividiendo por 60\n",
    "\n",
    "200/60"
   ]
  },
  {
   "cell_type": "markdown",
   "id": "de076632-51cd-40dc-b38c-4623341f686e",
   "metadata": {},
   "source": [
    "## Autor  \n",
    "Marco Antonio Enciso Siviriche"
   ]
  },
  {
   "cell_type": "code",
   "execution_count": null,
   "id": "f1545d47-806a-43f7-af7f-9332a1662dac",
   "metadata": {},
   "outputs": [],
   "source": []
  },
  {
   "cell_type": "code",
   "execution_count": null,
   "id": "c5472822-7d46-419f-8a39-2838b22f6e68",
   "metadata": {},
   "outputs": [],
   "source": []
  },
  {
   "cell_type": "code",
   "execution_count": null,
   "id": "9f0101a0-4897-49a2-b00c-c07239fa96ea",
   "metadata": {},
   "outputs": [],
   "source": []
  },
  {
   "cell_type": "code",
   "execution_count": null,
   "id": "b9863456-3686-42ed-99f1-89ae2a716a6c",
   "metadata": {},
   "outputs": [],
   "source": []
  },
  {
   "cell_type": "code",
   "execution_count": null,
   "id": "23ddbc9e-aec4-4b1b-b282-ec68c4e357a9",
   "metadata": {},
   "outputs": [],
   "source": []
  },
  {
   "cell_type": "code",
   "execution_count": null,
   "id": "d3801fc0-fcdf-4ef0-b5eb-a71cbad666ff",
   "metadata": {},
   "outputs": [],
   "source": []
  },
  {
   "cell_type": "code",
   "execution_count": null,
   "id": "00ac27d3-9010-4b22-ab3b-d96db198f7cb",
   "metadata": {},
   "outputs": [],
   "source": []
  },
  {
   "cell_type": "code",
   "execution_count": null,
   "id": "96385cde-a184-4589-81f5-9010efe3e244",
   "metadata": {},
   "outputs": [],
   "source": []
  },
  {
   "cell_type": "code",
   "execution_count": null,
   "id": "fd72cd45-3c31-4b82-886b-6a9d93b15904",
   "metadata": {},
   "outputs": [],
   "source": []
  },
  {
   "cell_type": "code",
   "execution_count": null,
   "id": "c69513df-b465-4123-9324-995fe29730b4",
   "metadata": {},
   "outputs": [],
   "source": []
  },
  {
   "cell_type": "code",
   "execution_count": null,
   "id": "a7df7c90-200e-45bf-a843-028d1c53cd5c",
   "metadata": {},
   "outputs": [],
   "source": []
  }
 ],
 "metadata": {
  "kernelspec": {
   "display_name": "Python 3 (ipykernel)",
   "language": "python",
   "name": "python3"
  },
  "language_info": {
   "codemirror_mode": {
    "name": "ipython",
    "version": 3
   },
   "file_extension": ".py",
   "mimetype": "text/x-python",
   "name": "python",
   "nbconvert_exporter": "python",
   "pygments_lexer": "ipython3",
   "version": "3.12.4"
  }
 },
 "nbformat": 4,
 "nbformat_minor": 5
}
